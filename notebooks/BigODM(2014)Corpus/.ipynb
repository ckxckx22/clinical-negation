{
 "cells": [
  {
   "cell_type": "code",
   "execution_count": 2,
   "id": "bdc2e4f8-d57e-433f-8018-6982822a3e67",
   "metadata": {},
   "outputs": [],
   "source": [
    "import os"
   ]
  },
  {
   "cell_type": "code",
   "execution_count": 22,
   "id": "6fdbe02b-1ca8-400a-860f-85975c9ff2c1",
   "metadata": {},
   "outputs": [],
   "source": [
    "DATA_DIR_SECTION = '/Users/chenkx/Desktop/TBIC-not_synced/Sectionizer/data/bigodm/train'\n",
    "DATA_DIR_RISKF1 = '/Users/chenkx/Downloads/training-RiskFactors-Complete-Set1'\n",
    "DATA_DIR_RISKF2 = '/Users/chenkx/Downloads/training-RiskFactors-Complete-Set2'"
   ]
  },
  {
   "cell_type": "code",
   "execution_count": 23,
   "id": "6d474ab0-38ec-49b7-82a5-ed0042661f08",
   "metadata": {},
   "outputs": [],
   "source": [
    "filenames = [i[:-4] for i in os.listdir(DATA_DIR) if i.endswith('.txt')]"
   ]
  },
  {
   "cell_type": "code",
   "execution_count": null,
   "id": "b7818d35-65b9-42f3-83c8-bfc681e16930",
   "metadata": {},
   "outputs": [],
   "source": []
  },
  {
   "cell_type": "code",
   "execution_count": 28,
   "id": "01d641ef-5dcc-4ac8-b235-2a82a1d2f005",
   "metadata": {},
   "outputs": [
    {
     "data": {
      "text/plain": [
       "521"
      ]
     },
     "execution_count": 28,
     "metadata": {},
     "output_type": "execute_result"
    }
   ],
   "source": [
    "len(os.listdir('/Users/chenkx/Downloads/training-RiskFactors-Complete-Set1'))"
   ]
  },
  {
   "cell_type": "code",
   "execution_count": 17,
   "id": "9928cbc0-ad18-49c1-95eb-bfb18b51cd54",
   "metadata": {},
   "outputs": [
    {
     "data": {
      "text/plain": [
       "790"
      ]
     },
     "execution_count": 17,
     "metadata": {},
     "output_type": "execute_result"
    }
   ],
   "source": [
    "len(filenames)"
   ]
  },
  {
   "cell_type": "code",
   "execution_count": null,
   "id": "e05ad040-014f-480c-a55c-f5d8b8cdd8a2",
   "metadata": {},
   "outputs": [],
   "source": []
  }
 ],
 "metadata": {
  "kernelspec": {
   "display_name": "Python 3",
   "language": "python",
   "name": "python3"
  },
  "language_info": {
   "codemirror_mode": {
    "name": "ipython",
    "version": 3
   },
   "file_extension": ".py",
   "mimetype": "text/x-python",
   "name": "python",
   "nbconvert_exporter": "python",
   "pygments_lexer": "ipython3",
   "version": "3.8.8"
  }
 },
 "nbformat": 4,
 "nbformat_minor": 5
}
