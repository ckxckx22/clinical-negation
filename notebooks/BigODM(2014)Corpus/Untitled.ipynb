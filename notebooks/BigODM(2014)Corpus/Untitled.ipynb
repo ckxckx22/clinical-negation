{
 "cells": [
  {
   "cell_type": "code",
   "execution_count": 3,
   "id": "291a3594-9338-45a9-8e6d-b5f0831a222b",
   "metadata": {},
   "outputs": [],
   "source": [
    "import os"
   ]
  },
  {
   "cell_type": "code",
   "execution_count": 1,
   "id": "7bae2461-37f1-4c3e-8130-110d52164b37",
   "metadata": {},
   "outputs": [],
   "source": [
    "DATA_DIR_SECTION = '/Users/chenkx/Desktop/TBIC-not_synced/Sectionizer/data/bigodm/train'\n",
    "DATA_DIR_RISKF1 = '/Users/chenkx/Downloads/training-RiskFactors-Complete-Set1'\n",
    "DATA_DIR_RISKF2 = '/Users/chenkx/Downloads/training-RiskFactors-Complete-Set2'"
   ]
  },
  {
   "cell_type": "code",
   "execution_count": 5,
   "id": "b0a25855-67b2-4f1b-b967-68ec00d5374f",
   "metadata": {},
   "outputs": [],
   "source": [
    "filenames = [i[:-4] for i in os.listdir(DATA_DIR_SECTION) if i.endswith('.txt')]"
   ]
  },
  {
   "cell_type": "code",
   "execution_count": null,
   "id": "93bb6a05-1e95-4a45-9ea2-d13e4551dc97",
   "metadata": {},
   "outputs": [],
   "source": []
  }
 ],
 "metadata": {
  "kernelspec": {
   "display_name": "Python 3",
   "language": "python",
   "name": "python3"
  },
  "language_info": {
   "codemirror_mode": {
    "name": "ipython",
    "version": 3
   },
   "file_extension": ".py",
   "mimetype": "text/x-python",
   "name": "python",
   "nbconvert_exporter": "python",
   "pygments_lexer": "ipython3",
   "version": "3.8.8"
  }
 },
 "nbformat": 4,
 "nbformat_minor": 5
}
