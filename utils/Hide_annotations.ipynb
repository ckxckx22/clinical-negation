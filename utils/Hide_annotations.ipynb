{
 "cells": [
  {
   "cell_type": "code",
   "execution_count": 1,
   "id": "3e7dcaf0-f70b-475f-aa12-de1f51009198",
   "metadata": {},
   "outputs": [],
   "source": [
    "import pandas as pd\n",
    "import random"
   ]
  },
  {
   "cell_type": "code",
   "execution_count": 2,
   "id": "507d8f92-d7a8-4766-96db-a2dfbe4e2346",
   "metadata": {},
   "outputs": [],
   "source": [
    "def to_df(data_dir, column_names=None, trim_col=[]):\n",
    "    with open(data_dir, \"r\") as f:\n",
    "        lines = f.readlines()\n",
    "        lines = [line.split('\\t') for line in lines]\n",
    "    if not column_names:\n",
    "        column_names = ['token', 'begin', 'end', 'section', 'filename', 'concept', 'label']\n",
    "    df = pd.DataFrame(lines, columns = column_names)\n",
    "    if trim_col:\n",
    "        for col in trim_col:\n",
    "            df[col] = df[col].str.rstrip(\"\\n\")\n",
    "    return df"
   ]
  },
  {
   "cell_type": "code",
   "execution_count": 124,
   "id": "33da3d17-8800-4149-95a3-89f02fd5e53b",
   "metadata": {},
   "outputs": [],
   "source": [
    "def write(df):\n",
    "    def concat_row_values(row):\n",
    "        if row.iloc[1] is None:\n",
    "            return \"\"\n",
    "        return '\\t'.join(row.values.astype(str))\n",
    "\n",
    "    # Apply the function across rows and join the resulting strings with new lines\n",
    "    final_text = df.apply(concat_row_values, axis=1).str.cat(sep='\\n')\n",
    "\n",
    "    return final_text"
   ]
  },
  {
   "cell_type": "code",
   "execution_count": 127,
   "id": "3bacff0d-4036-45a1-8b57-e196a9875b94",
   "metadata": {
    "tags": []
   },
   "outputs": [
    {
     "name": "stdout",
     "output_type": "stream",
     "text": [
      "dev\n",
      "Ratio of the number of concepts in the high subset to the full set: 0.1232 (276/2241)\n",
      "train\n",
      "Ratio of the number of concepts in the high subset to the full set: 0.1426 (1387/9726)\n",
      "test\n",
      "Ratio of the number of concepts in the high subset to the full set: 0.1300 (2411/18550)\n"
     ]
    }
   ],
   "source": [
    "# which_set = \"dev\"\n",
    "for which_set in [\"dev\", \"train\", \"test\"]:\n",
    "    DATA_DIR = \"/Users/chenkx/git/clinical-negation/emnlp2017-bilstm-cnn-crf/data/i2b2_2010/real/%s.txt\" % which_set\n",
    "    highly_negated = [\"Physical examination/Status\", \"Review of systems\", \"Allergies\", \"Complications\"]\n",
    "    # lowly_negated = [\"Patient information/Demographics\", \"Present illness\", \"Hospital course\", \"Social history\",\n",
    "    #                  \"Family history\", \"Addendum\", \"Radiology\", \"Unknown/Unclassified\", \"Problems\",\n",
    "    #                  \"Reasons/Indications\",\n",
    "    #                  \"Procedures/Surgery\", \"Chief complaint\", \"Nutrition\", \"Past history\", \"Assessment\", \"Diagnoses\",\n",
    "    #                  \"Laboratory tests\", \"Follow-up/Instructions\", \"Assessment/Plan\", \"Allergies\", \"Medications\",\n",
    "    #                  \"Investigations/Results\"]\n",
    "\n",
    "    raw = to_df(DATA_DIR, trim_col=[\"label\"])\n",
    "    raw[\"row_id\"] = raw.index.to_list()\n",
    "    raw['section'] = raw['section'].fillna(method='ffill')\n",
    "\n",
    "    low_subset = raw.copy()\n",
    "    low_subset.loc[low_subset.section.isin(highly_negated), \"concept\"] = \"O\"\n",
    "    low_subset.loc[low_subset.section.isin(highly_negated), \"label\"] = \"N/A\"\n",
    "    high_subset = raw.copy()\n",
    "    high_subset.loc[~high_subset.section.isin(highly_negated), \"concept\"] = \"O\"\n",
    "    high_subset.loc[~high_subset.section.isin(highly_negated), \"label\"] = \"N/A\"\n",
    "\n",
    "    print(which_set)\n",
    "    print(\"Ratio of the number of concepts in the high subset to the full set: %.4f (%d/%d)\" % \n",
    "            (sum(high_subset.concept==\"B\")/sum(raw.concept==\"B\"),\n",
    "            sum(high_subset.concept==\"B\"),\n",
    "            sum(raw.concept==\"B\")))\n",
    "\n",
    "    # write to file: the subset of highly-negated sections\n",
    "    with open(\"/Users/chenkx/git/clinical-negation/emnlp2017-bilstm-cnn-crf/data/i2b2_2010-showing-highly_negated/%s.txt\" % which_set, \"w\") as f:\n",
    "        f.write(write(high_subset))\n",
    "    # write to file: the subset of the rest of the dataset\n",
    "    with open(\"/Users/chenkx/git/clinical-negation/emnlp2017-bilstm-cnn-crf/data/i2b2_2010-showing-lowly_negated/%s.txt\" % which_set, \"w\") as f:\n",
    "        f.write(write(low_subset))"
   ]
  },
  {
   "cell_type": "markdown",
   "id": "b2c29f33-cf0c-4ad2-81cf-5a7bca7e46c3",
   "metadata": {},
   "source": [
    "Appendix"
   ]
  },
  {
   "cell_type": "code",
   "execution_count": 59,
   "id": "f45cf025-3456-4048-b2b8-b07c6e4362c3",
   "metadata": {},
   "outputs": [],
   "source": [
    "downsample_ln = to_df(\"/Users/chenkx/git/clinical-negation/emnlp2017-bilstm-cnn-crf/data/i2b2_2010_downsample-lowly_negated/%s.txt\" % which_set,\n",
    "                  column_names = ['token', 'begin', 'end', 'section', 'filename', 'concept', 'label',\"row_id\",\"keep\"])\n",
    "raw[\"dowsample-lowly_negated\"] = False\n",
    "raw.loc[raw.row_id.isin(pd.to_numeric(downsample_ln.row_id).astype(\"Int64\")), \"dowsample-lowly_negated\"] = True"
   ]
  },
  {
   "cell_type": "code",
   "execution_count": 60,
   "id": "83361c1c-925b-4985-8bc1-ea44758ea269",
   "metadata": {},
   "outputs": [],
   "source": [
    "downsample = to_df(\"/Users/chenkx/git/clinical-negation/emnlp2017-bilstm-cnn-crf/data/i2b2_2010_downsample/%s.txt\" % which_set,\n",
    "                  column_names = ['token', 'begin', 'end', 'section', 'filename', 'concept', 'label',\"row_id\", \"keep\"])\n",
    "raw[\"dowsample\"] = False\n",
    "raw.loc[raw.row_id.isin(pd.to_numeric(downsample.row_id).astype(\"Int64\")), \"dowsample\"] = True"
   ]
  },
  {
   "cell_type": "code",
   "execution_count": 121,
   "id": "d5d37bb7-6dae-441a-9fc0-a28a1454645b",
   "metadata": {},
   "outputs": [
    {
     "data": {
      "text/html": [
       "<div>\n",
       "<style scoped>\n",
       "    .dataframe tbody tr th:only-of-type {\n",
       "        vertical-align: middle;\n",
       "    }\n",
       "\n",
       "    .dataframe tbody tr th {\n",
       "        vertical-align: top;\n",
       "    }\n",
       "\n",
       "    .dataframe thead th {\n",
       "        text-align: right;\n",
       "    }\n",
       "</style>\n",
       "<table border=\"1\" class=\"dataframe\">\n",
       "  <thead>\n",
       "    <tr style=\"text-align: right;\">\n",
       "      <th></th>\n",
       "      <th>token</th>\n",
       "      <th>begin</th>\n",
       "      <th>end</th>\n",
       "      <th>section</th>\n",
       "      <th>filename</th>\n",
       "      <th>concept</th>\n",
       "      <th>label</th>\n",
       "      <th>row_id</th>\n",
       "      <th>dowsample-lowly_negated</th>\n",
       "      <th>dowsample</th>\n",
       "    </tr>\n",
       "  </thead>\n",
       "  <tbody>\n",
       "    <tr>\n",
       "      <th>0</th>\n",
       "      <td>223159990</td>\n",
       "      <td>0</td>\n",
       "      <td>9</td>\n",
       "      <td>Unknown/Unclassified</td>\n",
       "      <td>223159990.txt</td>\n",
       "      <td>O</td>\n",
       "      <td>N/A</td>\n",
       "      <td>0</td>\n",
       "      <td>False</td>\n",
       "      <td>False</td>\n",
       "    </tr>\n",
       "    <tr>\n",
       "      <th>1</th>\n",
       "      <td>PUOMC</td>\n",
       "      <td>10</td>\n",
       "      <td>15</td>\n",
       "      <td>Unknown/Unclassified</td>\n",
       "      <td>223159990.txt</td>\n",
       "      <td>O</td>\n",
       "      <td>N/A</td>\n",
       "      <td>1</td>\n",
       "      <td>False</td>\n",
       "      <td>False</td>\n",
       "    </tr>\n",
       "    <tr>\n",
       "      <th>2</th>\n",
       "      <td>3546292</td>\n",
       "      <td>16</td>\n",
       "      <td>23</td>\n",
       "      <td>Unknown/Unclassified</td>\n",
       "      <td>223159990.txt</td>\n",
       "      <td>O</td>\n",
       "      <td>N/A</td>\n",
       "      <td>2</td>\n",
       "      <td>False</td>\n",
       "      <td>False</td>\n",
       "    </tr>\n",
       "    <tr>\n",
       "      <th>3</th>\n",
       "      <td>181083</td>\n",
       "      <td>24</td>\n",
       "      <td>30</td>\n",
       "      <td>Unknown/Unclassified</td>\n",
       "      <td>223159990.txt</td>\n",
       "      <td>O</td>\n",
       "      <td>N/A</td>\n",
       "      <td>3</td>\n",
       "      <td>False</td>\n",
       "      <td>False</td>\n",
       "    </tr>\n",
       "    <tr>\n",
       "      <th>4</th>\n",
       "      <td>366324</td>\n",
       "      <td>31</td>\n",
       "      <td>37</td>\n",
       "      <td>Unknown/Unclassified</td>\n",
       "      <td>223159990.txt</td>\n",
       "      <td>O</td>\n",
       "      <td>N/A</td>\n",
       "      <td>4</td>\n",
       "      <td>False</td>\n",
       "      <td>False</td>\n",
       "    </tr>\n",
       "  </tbody>\n",
       "</table>\n",
       "</div>"
      ],
      "text/plain": [
       "       token begin end               section       filename concept label  \\\n",
       "0  223159990     0   9  Unknown/Unclassified  223159990.txt       O   N/A   \n",
       "1      PUOMC    10  15  Unknown/Unclassified  223159990.txt       O   N/A   \n",
       "2    3546292    16  23  Unknown/Unclassified  223159990.txt       O   N/A   \n",
       "3     181083    24  30  Unknown/Unclassified  223159990.txt       O   N/A   \n",
       "4     366324    31  37  Unknown/Unclassified  223159990.txt       O   N/A   \n",
       "\n",
       "   row_id  dowsample-lowly_negated  dowsample  \n",
       "0       0                    False      False  \n",
       "1       1                    False      False  \n",
       "2       2                    False      False  \n",
       "3       3                    False      False  \n",
       "4       4                    False      False  "
      ]
     },
     "execution_count": 121,
     "metadata": {},
     "output_type": "execute_result"
    }
   ],
   "source": [
    "raw.head(5)"
   ]
  }
 ],
 "metadata": {
  "kernelspec": {
   "display_name": "Python 3",
   "language": "python",
   "name": "python3"
  },
  "language_info": {
   "codemirror_mode": {
    "name": "ipython",
    "version": 3
   },
   "file_extension": ".py",
   "mimetype": "text/x-python",
   "name": "python",
   "nbconvert_exporter": "python",
   "pygments_lexer": "ipython3",
   "version": "3.8.8"
  }
 },
 "nbformat": 4,
 "nbformat_minor": 5
}
